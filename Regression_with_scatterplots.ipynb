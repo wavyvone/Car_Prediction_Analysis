{
 "cells": [
  {
   "cell_type": "markdown",
   "metadata": {},
   "source": [
    "# Imports"
   ]
  },
  {
   "cell_type": "code",
   "execution_count": 1,
   "metadata": {},
   "outputs": [],
   "source": [
    "import pandas as pd\n",
    "import numpy as np\n",
    "from sklearn.linear_model import LinearRegression\n",
    "from sklearn.model_selection import train_test_split\n",
    "from sklearn.metrics import mean_squared_error, r2_score\n",
    "from sklearn.preprocessing import StandardScaler, MinMaxScaler\n",
    "import matplotlib.pyplot as plt\n",
    "\n",
    "import statsmodels.api as sm"
   ]
  },
  {
   "cell_type": "markdown",
   "metadata": {},
   "source": [
    "# Data Preprocessing"
   ]
  },
  {
   "cell_type": "code",
   "execution_count": 2,
   "metadata": {},
   "outputs": [
    {
     "name": "stdout",
     "output_type": "stream",
     "text": [
      "(205, 53)\n"
     ]
    },
    {
     "data": {
      "text/html": [
       "<div>\n",
       "<style scoped>\n",
       "    .dataframe tbody tr th:only-of-type {\n",
       "        vertical-align: middle;\n",
       "    }\n",
       "\n",
       "    .dataframe tbody tr th {\n",
       "        vertical-align: top;\n",
       "    }\n",
       "\n",
       "    .dataframe thead th {\n",
       "        text-align: right;\n",
       "    }\n",
       "</style>\n",
       "<table border=\"1\" class=\"dataframe\">\n",
       "  <thead>\n",
       "    <tr style=\"text-align: right;\">\n",
       "      <th></th>\n",
       "      <th>symboling</th>\n",
       "      <th>wheelbase</th>\n",
       "      <th>carlength</th>\n",
       "      <th>carwidth</th>\n",
       "      <th>carheight</th>\n",
       "      <th>curbweight</th>\n",
       "      <th>enginesize</th>\n",
       "      <th>boreratio</th>\n",
       "      <th>stroke</th>\n",
       "      <th>compressionratio</th>\n",
       "      <th>...</th>\n",
       "      <th>cylindernumber_eight</th>\n",
       "      <th>cylindernumber_twelve</th>\n",
       "      <th>fuelsystem_mpfi</th>\n",
       "      <th>fuelsystem_2bbl</th>\n",
       "      <th>fuelsystem_idi</th>\n",
       "      <th>fuelsystem_1bbl</th>\n",
       "      <th>fuelsystem_spdi</th>\n",
       "      <th>fuelsystem_4bbl</th>\n",
       "      <th>fuelsystem_mfi</th>\n",
       "      <th>fuelsystem_spfi</th>\n",
       "    </tr>\n",
       "    <tr>\n",
       "      <th>car_ID</th>\n",
       "      <th></th>\n",
       "      <th></th>\n",
       "      <th></th>\n",
       "      <th></th>\n",
       "      <th></th>\n",
       "      <th></th>\n",
       "      <th></th>\n",
       "      <th></th>\n",
       "      <th></th>\n",
       "      <th></th>\n",
       "      <th></th>\n",
       "      <th></th>\n",
       "      <th></th>\n",
       "      <th></th>\n",
       "      <th></th>\n",
       "      <th></th>\n",
       "      <th></th>\n",
       "      <th></th>\n",
       "      <th></th>\n",
       "      <th></th>\n",
       "      <th></th>\n",
       "    </tr>\n",
       "  </thead>\n",
       "  <tbody>\n",
       "    <tr>\n",
       "      <th>1</th>\n",
       "      <td>3</td>\n",
       "      <td>88.6</td>\n",
       "      <td>168.8</td>\n",
       "      <td>64.1</td>\n",
       "      <td>48.8</td>\n",
       "      <td>2548</td>\n",
       "      <td>130</td>\n",
       "      <td>3.47</td>\n",
       "      <td>2.68</td>\n",
       "      <td>9.0</td>\n",
       "      <td>...</td>\n",
       "      <td>0</td>\n",
       "      <td>0</td>\n",
       "      <td>1</td>\n",
       "      <td>0</td>\n",
       "      <td>0</td>\n",
       "      <td>0</td>\n",
       "      <td>0</td>\n",
       "      <td>0</td>\n",
       "      <td>0</td>\n",
       "      <td>0</td>\n",
       "    </tr>\n",
       "    <tr>\n",
       "      <th>2</th>\n",
       "      <td>3</td>\n",
       "      <td>88.6</td>\n",
       "      <td>168.8</td>\n",
       "      <td>64.1</td>\n",
       "      <td>48.8</td>\n",
       "      <td>2548</td>\n",
       "      <td>130</td>\n",
       "      <td>3.47</td>\n",
       "      <td>2.68</td>\n",
       "      <td>9.0</td>\n",
       "      <td>...</td>\n",
       "      <td>0</td>\n",
       "      <td>0</td>\n",
       "      <td>1</td>\n",
       "      <td>0</td>\n",
       "      <td>0</td>\n",
       "      <td>0</td>\n",
       "      <td>0</td>\n",
       "      <td>0</td>\n",
       "      <td>0</td>\n",
       "      <td>0</td>\n",
       "    </tr>\n",
       "    <tr>\n",
       "      <th>3</th>\n",
       "      <td>1</td>\n",
       "      <td>94.5</td>\n",
       "      <td>171.2</td>\n",
       "      <td>65.5</td>\n",
       "      <td>52.4</td>\n",
       "      <td>2823</td>\n",
       "      <td>152</td>\n",
       "      <td>2.68</td>\n",
       "      <td>3.47</td>\n",
       "      <td>9.0</td>\n",
       "      <td>...</td>\n",
       "      <td>0</td>\n",
       "      <td>0</td>\n",
       "      <td>1</td>\n",
       "      <td>0</td>\n",
       "      <td>0</td>\n",
       "      <td>0</td>\n",
       "      <td>0</td>\n",
       "      <td>0</td>\n",
       "      <td>0</td>\n",
       "      <td>0</td>\n",
       "    </tr>\n",
       "    <tr>\n",
       "      <th>4</th>\n",
       "      <td>2</td>\n",
       "      <td>99.8</td>\n",
       "      <td>176.6</td>\n",
       "      <td>66.2</td>\n",
       "      <td>54.3</td>\n",
       "      <td>2337</td>\n",
       "      <td>109</td>\n",
       "      <td>3.19</td>\n",
       "      <td>3.40</td>\n",
       "      <td>10.0</td>\n",
       "      <td>...</td>\n",
       "      <td>0</td>\n",
       "      <td>0</td>\n",
       "      <td>1</td>\n",
       "      <td>0</td>\n",
       "      <td>0</td>\n",
       "      <td>0</td>\n",
       "      <td>0</td>\n",
       "      <td>0</td>\n",
       "      <td>0</td>\n",
       "      <td>0</td>\n",
       "    </tr>\n",
       "    <tr>\n",
       "      <th>5</th>\n",
       "      <td>2</td>\n",
       "      <td>99.4</td>\n",
       "      <td>176.6</td>\n",
       "      <td>66.4</td>\n",
       "      <td>54.3</td>\n",
       "      <td>2824</td>\n",
       "      <td>136</td>\n",
       "      <td>3.19</td>\n",
       "      <td>3.40</td>\n",
       "      <td>8.0</td>\n",
       "      <td>...</td>\n",
       "      <td>0</td>\n",
       "      <td>0</td>\n",
       "      <td>1</td>\n",
       "      <td>0</td>\n",
       "      <td>0</td>\n",
       "      <td>0</td>\n",
       "      <td>0</td>\n",
       "      <td>0</td>\n",
       "      <td>0</td>\n",
       "      <td>0</td>\n",
       "    </tr>\n",
       "  </tbody>\n",
       "</table>\n",
       "<p>5 rows × 53 columns</p>\n",
       "</div>"
      ],
      "text/plain": [
       "        symboling  wheelbase  carlength  carwidth  carheight  curbweight  \\\n",
       "car_ID                                                                     \n",
       "1               3       88.6      168.8      64.1       48.8        2548   \n",
       "2               3       88.6      168.8      64.1       48.8        2548   \n",
       "3               1       94.5      171.2      65.5       52.4        2823   \n",
       "4               2       99.8      176.6      66.2       54.3        2337   \n",
       "5               2       99.4      176.6      66.4       54.3        2824   \n",
       "\n",
       "        enginesize  boreratio  stroke  compressionratio  ...  \\\n",
       "car_ID                                                   ...   \n",
       "1              130       3.47    2.68               9.0  ...   \n",
       "2              130       3.47    2.68               9.0  ...   \n",
       "3              152       2.68    3.47               9.0  ...   \n",
       "4              109       3.19    3.40              10.0  ...   \n",
       "5              136       3.19    3.40               8.0  ...   \n",
       "\n",
       "        cylindernumber_eight  cylindernumber_twelve  fuelsystem_mpfi  \\\n",
       "car_ID                                                                 \n",
       "1                          0                      0                1   \n",
       "2                          0                      0                1   \n",
       "3                          0                      0                1   \n",
       "4                          0                      0                1   \n",
       "5                          0                      0                1   \n",
       "\n",
       "        fuelsystem_2bbl  fuelsystem_idi  fuelsystem_1bbl  fuelsystem_spdi  \\\n",
       "car_ID                                                                      \n",
       "1                     0               0                0                0   \n",
       "2                     0               0                0                0   \n",
       "3                     0               0                0                0   \n",
       "4                     0               0                0                0   \n",
       "5                     0               0                0                0   \n",
       "\n",
       "        fuelsystem_4bbl  fuelsystem_mfi  fuelsystem_spfi  \n",
       "car_ID                                                    \n",
       "1                     0               0                0  \n",
       "2                     0               0                0  \n",
       "3                     0               0                0  \n",
       "4                     0               0                0  \n",
       "5                     0               0                0  \n",
       "\n",
       "[5 rows x 53 columns]"
      ]
     },
     "execution_count": 2,
     "metadata": {},
     "output_type": "execute_result"
    }
   ],
   "source": [
    "data_URL = \"./Cleaned Data/Data.csv\"\n",
    "\n",
    "data = pd.read_csv(data_URL, index_col=0)\n",
    "\n",
    "print(data.shape)\n",
    "\n",
    "data.head()"
   ]
  },
  {
   "cell_type": "markdown",
   "metadata": {},
   "source": [
    "## Data Scaling (Numerical)\n",
    "### Standard"
   ]
  },
  {
   "cell_type": "code",
   "execution_count": 3,
   "metadata": {},
   "outputs": [],
   "source": [
    "scaler = StandardScaler()"
   ]
  },
  {
   "cell_type": "code",
   "execution_count": 4,
   "metadata": {},
   "outputs": [
    {
     "data": {
      "text/html": [
       "<div>\n",
       "<style scoped>\n",
       "    .dataframe tbody tr th:only-of-type {\n",
       "        vertical-align: middle;\n",
       "    }\n",
       "\n",
       "    .dataframe tbody tr th {\n",
       "        vertical-align: top;\n",
       "    }\n",
       "\n",
       "    .dataframe thead th {\n",
       "        text-align: right;\n",
       "    }\n",
       "</style>\n",
       "<table border=\"1\" class=\"dataframe\">\n",
       "  <thead>\n",
       "    <tr style=\"text-align: right;\">\n",
       "      <th></th>\n",
       "      <th>symboling</th>\n",
       "      <th>wheelbase</th>\n",
       "      <th>carlength</th>\n",
       "      <th>carwidth</th>\n",
       "      <th>carheight</th>\n",
       "      <th>curbweight</th>\n",
       "      <th>enginesize</th>\n",
       "      <th>boreratio</th>\n",
       "      <th>stroke</th>\n",
       "      <th>compressionratio</th>\n",
       "      <th>horsepower</th>\n",
       "      <th>peakrpm</th>\n",
       "      <th>citympg</th>\n",
       "      <th>highwaympg</th>\n",
       "    </tr>\n",
       "    <tr>\n",
       "      <th>car_ID</th>\n",
       "      <th></th>\n",
       "      <th></th>\n",
       "      <th></th>\n",
       "      <th></th>\n",
       "      <th></th>\n",
       "      <th></th>\n",
       "      <th></th>\n",
       "      <th></th>\n",
       "      <th></th>\n",
       "      <th></th>\n",
       "      <th></th>\n",
       "      <th></th>\n",
       "      <th></th>\n",
       "      <th></th>\n",
       "    </tr>\n",
       "  </thead>\n",
       "  <tbody>\n",
       "    <tr>\n",
       "      <th>1</th>\n",
       "      <td>3</td>\n",
       "      <td>88.6</td>\n",
       "      <td>168.8</td>\n",
       "      <td>64.1</td>\n",
       "      <td>48.8</td>\n",
       "      <td>2548</td>\n",
       "      <td>130</td>\n",
       "      <td>3.47</td>\n",
       "      <td>2.68</td>\n",
       "      <td>9.0</td>\n",
       "      <td>111</td>\n",
       "      <td>5000</td>\n",
       "      <td>21</td>\n",
       "      <td>27</td>\n",
       "    </tr>\n",
       "    <tr>\n",
       "      <th>2</th>\n",
       "      <td>3</td>\n",
       "      <td>88.6</td>\n",
       "      <td>168.8</td>\n",
       "      <td>64.1</td>\n",
       "      <td>48.8</td>\n",
       "      <td>2548</td>\n",
       "      <td>130</td>\n",
       "      <td>3.47</td>\n",
       "      <td>2.68</td>\n",
       "      <td>9.0</td>\n",
       "      <td>111</td>\n",
       "      <td>5000</td>\n",
       "      <td>21</td>\n",
       "      <td>27</td>\n",
       "    </tr>\n",
       "    <tr>\n",
       "      <th>3</th>\n",
       "      <td>1</td>\n",
       "      <td>94.5</td>\n",
       "      <td>171.2</td>\n",
       "      <td>65.5</td>\n",
       "      <td>52.4</td>\n",
       "      <td>2823</td>\n",
       "      <td>152</td>\n",
       "      <td>2.68</td>\n",
       "      <td>3.47</td>\n",
       "      <td>9.0</td>\n",
       "      <td>154</td>\n",
       "      <td>5000</td>\n",
       "      <td>19</td>\n",
       "      <td>26</td>\n",
       "    </tr>\n",
       "    <tr>\n",
       "      <th>4</th>\n",
       "      <td>2</td>\n",
       "      <td>99.8</td>\n",
       "      <td>176.6</td>\n",
       "      <td>66.2</td>\n",
       "      <td>54.3</td>\n",
       "      <td>2337</td>\n",
       "      <td>109</td>\n",
       "      <td>3.19</td>\n",
       "      <td>3.40</td>\n",
       "      <td>10.0</td>\n",
       "      <td>102</td>\n",
       "      <td>5500</td>\n",
       "      <td>24</td>\n",
       "      <td>30</td>\n",
       "    </tr>\n",
       "    <tr>\n",
       "      <th>5</th>\n",
       "      <td>2</td>\n",
       "      <td>99.4</td>\n",
       "      <td>176.6</td>\n",
       "      <td>66.4</td>\n",
       "      <td>54.3</td>\n",
       "      <td>2824</td>\n",
       "      <td>136</td>\n",
       "      <td>3.19</td>\n",
       "      <td>3.40</td>\n",
       "      <td>8.0</td>\n",
       "      <td>115</td>\n",
       "      <td>5500</td>\n",
       "      <td>18</td>\n",
       "      <td>22</td>\n",
       "    </tr>\n",
       "  </tbody>\n",
       "</table>\n",
       "</div>"
      ],
      "text/plain": [
       "        symboling  wheelbase  carlength  carwidth  carheight  curbweight  \\\n",
       "car_ID                                                                     \n",
       "1               3       88.6      168.8      64.1       48.8        2548   \n",
       "2               3       88.6      168.8      64.1       48.8        2548   \n",
       "3               1       94.5      171.2      65.5       52.4        2823   \n",
       "4               2       99.8      176.6      66.2       54.3        2337   \n",
       "5               2       99.4      176.6      66.4       54.3        2824   \n",
       "\n",
       "        enginesize  boreratio  stroke  compressionratio  horsepower  peakrpm  \\\n",
       "car_ID                                                                         \n",
       "1              130       3.47    2.68               9.0         111     5000   \n",
       "2              130       3.47    2.68               9.0         111     5000   \n",
       "3              152       2.68    3.47               9.0         154     5000   \n",
       "4              109       3.19    3.40              10.0         102     5500   \n",
       "5              136       3.19    3.40               8.0         115     5500   \n",
       "\n",
       "        citympg  highwaympg  \n",
       "car_ID                       \n",
       "1            21          27  \n",
       "2            21          27  \n",
       "3            19          26  \n",
       "4            24          30  \n",
       "5            18          22  "
      ]
     },
     "execution_count": 4,
     "metadata": {},
     "output_type": "execute_result"
    }
   ],
   "source": [
    "numerical_columns = data.columns.tolist()\n",
    "numerical_columns = list(filter(lambda x: '_' not in x, numerical_columns))\n",
    "scaling_columns = list(filter(lambda x: x != \"price\", numerical_columns))\n",
    "# []\"symboling\", \"carheight\", \"compressionratio\", \"peakrpm\", \"stroke\"]\n",
    "data[scaling_columns].head()"
   ]
  },
  {
   "cell_type": "code",
   "execution_count": 5,
   "metadata": {},
   "outputs": [
    {
     "data": {
      "text/html": [
       "<div>\n",
       "<style scoped>\n",
       "    .dataframe tbody tr th:only-of-type {\n",
       "        vertical-align: middle;\n",
       "    }\n",
       "\n",
       "    .dataframe tbody tr th {\n",
       "        vertical-align: top;\n",
       "    }\n",
       "\n",
       "    .dataframe thead th {\n",
       "        text-align: right;\n",
       "    }\n",
       "</style>\n",
       "<table border=\"1\" class=\"dataframe\">\n",
       "  <thead>\n",
       "    <tr style=\"text-align: right;\">\n",
       "      <th></th>\n",
       "      <th>symboling</th>\n",
       "      <th>wheelbase</th>\n",
       "      <th>carlength</th>\n",
       "      <th>carwidth</th>\n",
       "      <th>carheight</th>\n",
       "      <th>curbweight</th>\n",
       "      <th>enginesize</th>\n",
       "      <th>boreratio</th>\n",
       "      <th>stroke</th>\n",
       "      <th>compressionratio</th>\n",
       "      <th>horsepower</th>\n",
       "      <th>peakrpm</th>\n",
       "      <th>citympg</th>\n",
       "      <th>highwaympg</th>\n",
       "    </tr>\n",
       "    <tr>\n",
       "      <th>car_ID</th>\n",
       "      <th></th>\n",
       "      <th></th>\n",
       "      <th></th>\n",
       "      <th></th>\n",
       "      <th></th>\n",
       "      <th></th>\n",
       "      <th></th>\n",
       "      <th></th>\n",
       "      <th></th>\n",
       "      <th></th>\n",
       "      <th></th>\n",
       "      <th></th>\n",
       "      <th></th>\n",
       "      <th></th>\n",
       "    </tr>\n",
       "  </thead>\n",
       "  <tbody>\n",
       "    <tr>\n",
       "      <th>1</th>\n",
       "      <td>1.743470</td>\n",
       "      <td>-1.690772</td>\n",
       "      <td>-0.426521</td>\n",
       "      <td>-0.844782</td>\n",
       "      <td>-2.020417</td>\n",
       "      <td>-0.014566</td>\n",
       "      <td>0.074449</td>\n",
       "      <td>0.519071</td>\n",
       "      <td>-1.839377</td>\n",
       "      <td>-0.288349</td>\n",
       "      <td>0.174483</td>\n",
       "      <td>-0.262960</td>\n",
       "      <td>-0.646553</td>\n",
       "      <td>-0.546059</td>\n",
       "    </tr>\n",
       "    <tr>\n",
       "      <th>2</th>\n",
       "      <td>1.743470</td>\n",
       "      <td>-1.690772</td>\n",
       "      <td>-0.426521</td>\n",
       "      <td>-0.844782</td>\n",
       "      <td>-2.020417</td>\n",
       "      <td>-0.014566</td>\n",
       "      <td>0.074449</td>\n",
       "      <td>0.519071</td>\n",
       "      <td>-1.839377</td>\n",
       "      <td>-0.288349</td>\n",
       "      <td>0.174483</td>\n",
       "      <td>-0.262960</td>\n",
       "      <td>-0.646553</td>\n",
       "      <td>-0.546059</td>\n",
       "    </tr>\n",
       "    <tr>\n",
       "      <th>3</th>\n",
       "      <td>0.133509</td>\n",
       "      <td>-0.708596</td>\n",
       "      <td>-0.231513</td>\n",
       "      <td>-0.190566</td>\n",
       "      <td>-0.543527</td>\n",
       "      <td>0.514882</td>\n",
       "      <td>0.604046</td>\n",
       "      <td>-2.404880</td>\n",
       "      <td>0.685946</td>\n",
       "      <td>-0.288349</td>\n",
       "      <td>1.264536</td>\n",
       "      <td>-0.262960</td>\n",
       "      <td>-0.953012</td>\n",
       "      <td>-0.691627</td>\n",
       "    </tr>\n",
       "    <tr>\n",
       "      <th>4</th>\n",
       "      <td>0.938490</td>\n",
       "      <td>0.173698</td>\n",
       "      <td>0.207256</td>\n",
       "      <td>0.136542</td>\n",
       "      <td>0.235942</td>\n",
       "      <td>-0.420797</td>\n",
       "      <td>-0.431076</td>\n",
       "      <td>-0.517266</td>\n",
       "      <td>0.462183</td>\n",
       "      <td>-0.035973</td>\n",
       "      <td>-0.053668</td>\n",
       "      <td>0.787855</td>\n",
       "      <td>-0.186865</td>\n",
       "      <td>-0.109354</td>\n",
       "    </tr>\n",
       "    <tr>\n",
       "      <th>5</th>\n",
       "      <td>0.938490</td>\n",
       "      <td>0.107110</td>\n",
       "      <td>0.207256</td>\n",
       "      <td>0.230001</td>\n",
       "      <td>0.235942</td>\n",
       "      <td>0.516807</td>\n",
       "      <td>0.218885</td>\n",
       "      <td>-0.517266</td>\n",
       "      <td>0.462183</td>\n",
       "      <td>-0.540725</td>\n",
       "      <td>0.275883</td>\n",
       "      <td>0.787855</td>\n",
       "      <td>-1.106241</td>\n",
       "      <td>-1.273900</td>\n",
       "    </tr>\n",
       "  </tbody>\n",
       "</table>\n",
       "</div>"
      ],
      "text/plain": [
       "        symboling  wheelbase  carlength  carwidth  carheight  curbweight  \\\n",
       "car_ID                                                                     \n",
       "1        1.743470  -1.690772  -0.426521 -0.844782  -2.020417   -0.014566   \n",
       "2        1.743470  -1.690772  -0.426521 -0.844782  -2.020417   -0.014566   \n",
       "3        0.133509  -0.708596  -0.231513 -0.190566  -0.543527    0.514882   \n",
       "4        0.938490   0.173698   0.207256  0.136542   0.235942   -0.420797   \n",
       "5        0.938490   0.107110   0.207256  0.230001   0.235942    0.516807   \n",
       "\n",
       "        enginesize  boreratio    stroke  compressionratio  horsepower  \\\n",
       "car_ID                                                                  \n",
       "1         0.074449   0.519071 -1.839377         -0.288349    0.174483   \n",
       "2         0.074449   0.519071 -1.839377         -0.288349    0.174483   \n",
       "3         0.604046  -2.404880  0.685946         -0.288349    1.264536   \n",
       "4        -0.431076  -0.517266  0.462183         -0.035973   -0.053668   \n",
       "5         0.218885  -0.517266  0.462183         -0.540725    0.275883   \n",
       "\n",
       "         peakrpm   citympg  highwaympg  \n",
       "car_ID                                  \n",
       "1      -0.262960 -0.646553   -0.546059  \n",
       "2      -0.262960 -0.646553   -0.546059  \n",
       "3      -0.262960 -0.953012   -0.691627  \n",
       "4       0.787855 -0.186865   -0.109354  \n",
       "5       0.787855 -1.106241   -1.273900  "
      ]
     },
     "execution_count": 5,
     "metadata": {},
     "output_type": "execute_result"
    }
   ],
   "source": [
    "standard_data = data.copy()\n",
    "standard_data[scaling_columns] = scaler.fit_transform(data[scaling_columns])\n",
    "standard_data[scaling_columns].head()"
   ]
  },
  {
   "cell_type": "markdown",
   "metadata": {},
   "source": [
    "### MinMax"
   ]
  },
  {
   "cell_type": "code",
   "execution_count": 6,
   "metadata": {},
   "outputs": [],
   "source": [
    "scaler = MinMaxScaler()"
   ]
  },
  {
   "cell_type": "code",
   "execution_count": 7,
   "metadata": {},
   "outputs": [
    {
     "data": {
      "text/html": [
       "<div>\n",
       "<style scoped>\n",
       "    .dataframe tbody tr th:only-of-type {\n",
       "        vertical-align: middle;\n",
       "    }\n",
       "\n",
       "    .dataframe tbody tr th {\n",
       "        vertical-align: top;\n",
       "    }\n",
       "\n",
       "    .dataframe thead th {\n",
       "        text-align: right;\n",
       "    }\n",
       "</style>\n",
       "<table border=\"1\" class=\"dataframe\">\n",
       "  <thead>\n",
       "    <tr style=\"text-align: right;\">\n",
       "      <th></th>\n",
       "      <th>symboling</th>\n",
       "      <th>wheelbase</th>\n",
       "      <th>carlength</th>\n",
       "      <th>carwidth</th>\n",
       "      <th>carheight</th>\n",
       "      <th>curbweight</th>\n",
       "      <th>enginesize</th>\n",
       "      <th>boreratio</th>\n",
       "      <th>stroke</th>\n",
       "      <th>compressionratio</th>\n",
       "      <th>horsepower</th>\n",
       "      <th>peakrpm</th>\n",
       "      <th>citympg</th>\n",
       "      <th>highwaympg</th>\n",
       "    </tr>\n",
       "    <tr>\n",
       "      <th>car_ID</th>\n",
       "      <th></th>\n",
       "      <th></th>\n",
       "      <th></th>\n",
       "      <th></th>\n",
       "      <th></th>\n",
       "      <th></th>\n",
       "      <th></th>\n",
       "      <th></th>\n",
       "      <th></th>\n",
       "      <th></th>\n",
       "      <th></th>\n",
       "      <th></th>\n",
       "      <th></th>\n",
       "      <th></th>\n",
       "    </tr>\n",
       "  </thead>\n",
       "  <tbody>\n",
       "    <tr>\n",
       "      <th>1</th>\n",
       "      <td>3</td>\n",
       "      <td>88.6</td>\n",
       "      <td>168.8</td>\n",
       "      <td>64.1</td>\n",
       "      <td>48.8</td>\n",
       "      <td>2548</td>\n",
       "      <td>130</td>\n",
       "      <td>3.47</td>\n",
       "      <td>2.68</td>\n",
       "      <td>9.0</td>\n",
       "      <td>111</td>\n",
       "      <td>5000</td>\n",
       "      <td>21</td>\n",
       "      <td>27</td>\n",
       "    </tr>\n",
       "    <tr>\n",
       "      <th>2</th>\n",
       "      <td>3</td>\n",
       "      <td>88.6</td>\n",
       "      <td>168.8</td>\n",
       "      <td>64.1</td>\n",
       "      <td>48.8</td>\n",
       "      <td>2548</td>\n",
       "      <td>130</td>\n",
       "      <td>3.47</td>\n",
       "      <td>2.68</td>\n",
       "      <td>9.0</td>\n",
       "      <td>111</td>\n",
       "      <td>5000</td>\n",
       "      <td>21</td>\n",
       "      <td>27</td>\n",
       "    </tr>\n",
       "    <tr>\n",
       "      <th>3</th>\n",
       "      <td>1</td>\n",
       "      <td>94.5</td>\n",
       "      <td>171.2</td>\n",
       "      <td>65.5</td>\n",
       "      <td>52.4</td>\n",
       "      <td>2823</td>\n",
       "      <td>152</td>\n",
       "      <td>2.68</td>\n",
       "      <td>3.47</td>\n",
       "      <td>9.0</td>\n",
       "      <td>154</td>\n",
       "      <td>5000</td>\n",
       "      <td>19</td>\n",
       "      <td>26</td>\n",
       "    </tr>\n",
       "    <tr>\n",
       "      <th>4</th>\n",
       "      <td>2</td>\n",
       "      <td>99.8</td>\n",
       "      <td>176.6</td>\n",
       "      <td>66.2</td>\n",
       "      <td>54.3</td>\n",
       "      <td>2337</td>\n",
       "      <td>109</td>\n",
       "      <td>3.19</td>\n",
       "      <td>3.40</td>\n",
       "      <td>10.0</td>\n",
       "      <td>102</td>\n",
       "      <td>5500</td>\n",
       "      <td>24</td>\n",
       "      <td>30</td>\n",
       "    </tr>\n",
       "    <tr>\n",
       "      <th>5</th>\n",
       "      <td>2</td>\n",
       "      <td>99.4</td>\n",
       "      <td>176.6</td>\n",
       "      <td>66.4</td>\n",
       "      <td>54.3</td>\n",
       "      <td>2824</td>\n",
       "      <td>136</td>\n",
       "      <td>3.19</td>\n",
       "      <td>3.40</td>\n",
       "      <td>8.0</td>\n",
       "      <td>115</td>\n",
       "      <td>5500</td>\n",
       "      <td>18</td>\n",
       "      <td>22</td>\n",
       "    </tr>\n",
       "  </tbody>\n",
       "</table>\n",
       "</div>"
      ],
      "text/plain": [
       "        symboling  wheelbase  carlength  carwidth  carheight  curbweight  \\\n",
       "car_ID                                                                     \n",
       "1               3       88.6      168.8      64.1       48.8        2548   \n",
       "2               3       88.6      168.8      64.1       48.8        2548   \n",
       "3               1       94.5      171.2      65.5       52.4        2823   \n",
       "4               2       99.8      176.6      66.2       54.3        2337   \n",
       "5               2       99.4      176.6      66.4       54.3        2824   \n",
       "\n",
       "        enginesize  boreratio  stroke  compressionratio  horsepower  peakrpm  \\\n",
       "car_ID                                                                         \n",
       "1              130       3.47    2.68               9.0         111     5000   \n",
       "2              130       3.47    2.68               9.0         111     5000   \n",
       "3              152       2.68    3.47               9.0         154     5000   \n",
       "4              109       3.19    3.40              10.0         102     5500   \n",
       "5              136       3.19    3.40               8.0         115     5500   \n",
       "\n",
       "        citympg  highwaympg  \n",
       "car_ID                       \n",
       "1            21          27  \n",
       "2            21          27  \n",
       "3            19          26  \n",
       "4            24          30  \n",
       "5            18          22  "
      ]
     },
     "execution_count": 7,
     "metadata": {},
     "output_type": "execute_result"
    }
   ],
   "source": [
    "numerical_columns = data.columns.tolist()\n",
    "numerical_columns = list(filter(lambda x: '_' not in x, numerical_columns))\n",
    "scaling_columns = list(filter(lambda x: x != \"price\", numerical_columns))\n",
    "# [\"symboling\", \"carheight\", \"compressionratio\", \"peakrpm\", \"stroke\"]\n",
    "data[scaling_columns].head()"
   ]
  },
  {
   "cell_type": "code",
   "execution_count": 8,
   "metadata": {},
   "outputs": [
    {
     "data": {
      "text/html": [
       "<div>\n",
       "<style scoped>\n",
       "    .dataframe tbody tr th:only-of-type {\n",
       "        vertical-align: middle;\n",
       "    }\n",
       "\n",
       "    .dataframe tbody tr th {\n",
       "        vertical-align: top;\n",
       "    }\n",
       "\n",
       "    .dataframe thead th {\n",
       "        text-align: right;\n",
       "    }\n",
       "</style>\n",
       "<table border=\"1\" class=\"dataframe\">\n",
       "  <thead>\n",
       "    <tr style=\"text-align: right;\">\n",
       "      <th></th>\n",
       "      <th>symboling</th>\n",
       "      <th>wheelbase</th>\n",
       "      <th>carlength</th>\n",
       "      <th>carwidth</th>\n",
       "      <th>carheight</th>\n",
       "      <th>curbweight</th>\n",
       "      <th>enginesize</th>\n",
       "      <th>boreratio</th>\n",
       "      <th>stroke</th>\n",
       "      <th>compressionratio</th>\n",
       "      <th>horsepower</th>\n",
       "      <th>peakrpm</th>\n",
       "      <th>citympg</th>\n",
       "      <th>highwaympg</th>\n",
       "    </tr>\n",
       "    <tr>\n",
       "      <th>car_ID</th>\n",
       "      <th></th>\n",
       "      <th></th>\n",
       "      <th></th>\n",
       "      <th></th>\n",
       "      <th></th>\n",
       "      <th></th>\n",
       "      <th></th>\n",
       "      <th></th>\n",
       "      <th></th>\n",
       "      <th></th>\n",
       "      <th></th>\n",
       "      <th></th>\n",
       "      <th></th>\n",
       "      <th></th>\n",
       "    </tr>\n",
       "  </thead>\n",
       "  <tbody>\n",
       "    <tr>\n",
       "      <th>1</th>\n",
       "      <td>1.0</td>\n",
       "      <td>0.058309</td>\n",
       "      <td>0.413433</td>\n",
       "      <td>0.316667</td>\n",
       "      <td>0.083333</td>\n",
       "      <td>0.411171</td>\n",
       "      <td>0.260377</td>\n",
       "      <td>0.664286</td>\n",
       "      <td>0.290476</td>\n",
       "      <td>0.1250</td>\n",
       "      <td>0.262500</td>\n",
       "      <td>0.346939</td>\n",
       "      <td>0.222222</td>\n",
       "      <td>0.289474</td>\n",
       "    </tr>\n",
       "    <tr>\n",
       "      <th>2</th>\n",
       "      <td>1.0</td>\n",
       "      <td>0.058309</td>\n",
       "      <td>0.413433</td>\n",
       "      <td>0.316667</td>\n",
       "      <td>0.083333</td>\n",
       "      <td>0.411171</td>\n",
       "      <td>0.260377</td>\n",
       "      <td>0.664286</td>\n",
       "      <td>0.290476</td>\n",
       "      <td>0.1250</td>\n",
       "      <td>0.262500</td>\n",
       "      <td>0.346939</td>\n",
       "      <td>0.222222</td>\n",
       "      <td>0.289474</td>\n",
       "    </tr>\n",
       "    <tr>\n",
       "      <th>3</th>\n",
       "      <td>0.6</td>\n",
       "      <td>0.230321</td>\n",
       "      <td>0.449254</td>\n",
       "      <td>0.433333</td>\n",
       "      <td>0.383333</td>\n",
       "      <td>0.517843</td>\n",
       "      <td>0.343396</td>\n",
       "      <td>0.100000</td>\n",
       "      <td>0.666667</td>\n",
       "      <td>0.1250</td>\n",
       "      <td>0.441667</td>\n",
       "      <td>0.346939</td>\n",
       "      <td>0.166667</td>\n",
       "      <td>0.263158</td>\n",
       "    </tr>\n",
       "    <tr>\n",
       "      <th>4</th>\n",
       "      <td>0.8</td>\n",
       "      <td>0.384840</td>\n",
       "      <td>0.529851</td>\n",
       "      <td>0.491667</td>\n",
       "      <td>0.541667</td>\n",
       "      <td>0.329325</td>\n",
       "      <td>0.181132</td>\n",
       "      <td>0.464286</td>\n",
       "      <td>0.633333</td>\n",
       "      <td>0.1875</td>\n",
       "      <td>0.225000</td>\n",
       "      <td>0.551020</td>\n",
       "      <td>0.305556</td>\n",
       "      <td>0.368421</td>\n",
       "    </tr>\n",
       "    <tr>\n",
       "      <th>5</th>\n",
       "      <td>0.8</td>\n",
       "      <td>0.373178</td>\n",
       "      <td>0.529851</td>\n",
       "      <td>0.508333</td>\n",
       "      <td>0.541667</td>\n",
       "      <td>0.518231</td>\n",
       "      <td>0.283019</td>\n",
       "      <td>0.464286</td>\n",
       "      <td>0.633333</td>\n",
       "      <td>0.0625</td>\n",
       "      <td>0.279167</td>\n",
       "      <td>0.551020</td>\n",
       "      <td>0.138889</td>\n",
       "      <td>0.157895</td>\n",
       "    </tr>\n",
       "  </tbody>\n",
       "</table>\n",
       "</div>"
      ],
      "text/plain": [
       "        symboling  wheelbase  carlength  carwidth  carheight  curbweight  \\\n",
       "car_ID                                                                     \n",
       "1             1.0   0.058309   0.413433  0.316667   0.083333    0.411171   \n",
       "2             1.0   0.058309   0.413433  0.316667   0.083333    0.411171   \n",
       "3             0.6   0.230321   0.449254  0.433333   0.383333    0.517843   \n",
       "4             0.8   0.384840   0.529851  0.491667   0.541667    0.329325   \n",
       "5             0.8   0.373178   0.529851  0.508333   0.541667    0.518231   \n",
       "\n",
       "        enginesize  boreratio    stroke  compressionratio  horsepower  \\\n",
       "car_ID                                                                  \n",
       "1         0.260377   0.664286  0.290476            0.1250    0.262500   \n",
       "2         0.260377   0.664286  0.290476            0.1250    0.262500   \n",
       "3         0.343396   0.100000  0.666667            0.1250    0.441667   \n",
       "4         0.181132   0.464286  0.633333            0.1875    0.225000   \n",
       "5         0.283019   0.464286  0.633333            0.0625    0.279167   \n",
       "\n",
       "         peakrpm   citympg  highwaympg  \n",
       "car_ID                                  \n",
       "1       0.346939  0.222222    0.289474  \n",
       "2       0.346939  0.222222    0.289474  \n",
       "3       0.346939  0.166667    0.263158  \n",
       "4       0.551020  0.305556    0.368421  \n",
       "5       0.551020  0.138889    0.157895  "
      ]
     },
     "execution_count": 8,
     "metadata": {},
     "output_type": "execute_result"
    }
   ],
   "source": [
    "minmax_data = data.copy()\n",
    "minmax_data[scaling_columns] = scaler.fit_transform(data[scaling_columns])\n",
    "minmax_data[scaling_columns].head()"
   ]
  },
  {
   "cell_type": "markdown",
   "metadata": {},
   "source": [
    "# Data Splitting"
   ]
  },
  {
   "cell_type": "code",
   "execution_count": 9,
   "metadata": {},
   "outputs": [
    {
     "name": "stdout",
     "output_type": "stream",
     "text": [
      "(205, 52)\n",
      "(205,)\n"
     ]
    }
   ],
   "source": [
    "standard_X = standard_data.drop(columns=\"price\")\n",
    "standard_Y = standard_data[\"price\"]\n",
    "\n",
    "minmax_X = minmax_data.drop(columns=\"price\")\n",
    "minmax_Y = minmax_data[\"price\"]\n",
    "\n",
    "print(standard_X.shape)\n",
    "print(standard_Y.shape)"
   ]
  },
  {
   "cell_type": "code",
   "execution_count": 10,
   "metadata": {},
   "outputs": [],
   "source": [
    "standard_train_X, standard_test_X, standard_train_Y, standard_test_Y = train_test_split(standard_X, standard_Y, train_size=0.8, test_size=0.2, shuffle=True)\n",
    "minmax_train_X, minmax_test_X, minmax_train_Y, minmax_test_Y = train_test_split(minmax_X, minmax_Y, train_size=0.8, test_size=0.2, shuffle=True)"
   ]
  },
  {
   "cell_type": "code",
   "execution_count": 11,
   "metadata": {},
   "outputs": [
    {
     "name": "stdout",
     "output_type": "stream",
     "text": [
      "(164, 52) (164,)\n",
      "(41, 52) (41,)\n"
     ]
    }
   ],
   "source": [
    "print(standard_train_X.shape, standard_train_Y.shape)\n",
    "print(standard_test_X.shape, standard_test_Y.shape)"
   ]
  },
  {
   "cell_type": "markdown",
   "metadata": {},
   "source": [
    "# Models\n",
    "## Model 1 (Naive Standard Scale)"
   ]
  },
  {
   "cell_type": "code",
   "execution_count": 12,
   "metadata": {},
   "outputs": [
    {
     "name": "stdout",
     "output_type": "stream",
     "text": [
      "Train MSE: 1902.2162549176967\n",
      "Test MSE: 2439.5671699016248\n",
      "Train r2: 94.880826246529\n",
      "Test r2: 82.44027350022132\n"
     ]
    }
   ],
   "source": [
    "model1 = LinearRegression()\n",
    "model1.fit(standard_train_X, standard_train_Y)\n",
    "\n",
    "model1_pred_train = model1.predict(standard_train_X)\n",
    "model1_pred_test = model1.predict(standard_test_X)\n",
    "\n",
    "model1_train_mse = mean_squared_error(standard_train_Y, model1_pred_train, squared=False)\n",
    "model1_test_mse = mean_squared_error(standard_test_Y, model1_pred_test, squared=False)\n",
    "\n",
    "model1_train_r2 = r2_score(standard_train_Y, model1_pred_train) * 100\n",
    "model1_test_r2 = r2_score(standard_test_Y, model1_pred_test) * 100\n",
    "\n",
    "print(\"Train MSE:\", model1_train_mse)\n",
    "print(\"Test MSE:\", model1_test_mse)\n",
    "\n",
    "print(\"Train r2:\", model1_train_r2)\n",
    "print(\"Test r2:\", model1_test_r2)"
   ]
  },
  {
   "cell_type": "markdown",
   "metadata": {},
   "source": [
    "## Model 2 (Remove Unnecessary Features Standard Scale)"
   ]
  },
  {
   "cell_type": "code",
   "execution_count": 13,
   "metadata": {},
   "outputs": [],
   "source": [
    "useful_standard_train_X = standard_train_X.drop(columns=[\"symboling\", \"carheight\", \"compressionratio\", \"peakrpm\", \"stroke\"])\n",
    "useful_standard_test_X = standard_test_X.drop(columns=[\"symboling\", \"carheight\", \"compressionratio\", \"peakrpm\", \"stroke\"])"
   ]
  },
  {
   "cell_type": "code",
   "execution_count": 14,
   "metadata": {},
   "outputs": [
    {
     "name": "stdout",
     "output_type": "stream",
     "text": [
      "Train MSE: 2136.3258980691007\n",
      "Test MSE: 2546.783239802525\n",
      "Train r2: 93.54323315596976\n",
      "Test r2: 80.86289882026134\n"
     ]
    }
   ],
   "source": [
    "model2 = LinearRegression()\n",
    "model2.fit(useful_standard_train_X, standard_train_Y)\n",
    "\n",
    "model2_pred_train = model2.predict(useful_standard_train_X)\n",
    "model2_pred_test = model2.predict(useful_standard_test_X)\n",
    "\n",
    "model2_train_mse = mean_squared_error(standard_train_Y, model2_pred_train, squared=False)\n",
    "model2_test_mse = mean_squared_error(standard_test_Y, model2_pred_test, squared=False)\n",
    "\n",
    "model2_train_r2 = r2_score(standard_train_Y, model2_pred_train) * 100\n",
    "model2_test_r2 = r2_score(standard_test_Y, model2_pred_test) * 100\n",
    "\n",
    "print(\"Train MSE:\", model2_train_mse)\n",
    "print(\"Test MSE:\", model2_test_mse)\n",
    "\n",
    "print(\"Train r2:\", model2_train_r2)\n",
    "print(\"Test r2:\", model2_test_r2)"
   ]
  },
  {
   "cell_type": "markdown",
   "metadata": {},
   "source": [
    "## Model 3 (Log transform Y Standard Scale)"
   ]
  },
  {
   "cell_type": "code",
   "execution_count": 15,
   "metadata": {},
   "outputs": [
    {
     "name": "stdout",
     "output_type": "stream",
     "text": [
      "Train MSE: 0.11689060017978498\n",
      "Test MSE: 0.15933256717955543\n",
      "Train r2: 94.98409444504846\n",
      "Test r2: 85.31203050826484\n"
     ]
    }
   ],
   "source": [
    "model3 = LinearRegression()\n",
    "model3.fit(standard_train_X, np.log(standard_train_Y))\n",
    "\n",
    "model3_pred_train = model3.predict(standard_train_X)\n",
    "model3_pred_test = model3.predict(standard_test_X)\n",
    "\n",
    "model3_train_mse = mean_squared_error(np.log(standard_train_Y), model3_pred_train, squared=False)\n",
    "model3_test_mse = mean_squared_error(np.log(standard_test_Y), model3_pred_test, squared=False)\n",
    "\n",
    "model3_train_r2 = r2_score(np.log(standard_train_Y), model3_pred_train) * 100\n",
    "model3_test_r2 = r2_score(np.log(standard_test_Y), model3_pred_test) * 100\n",
    "\n",
    "print(\"Train MSE:\", model3_train_mse)\n",
    "print(\"Test MSE:\", model3_test_mse)\n",
    "\n",
    "print(\"Train r2:\", model3_train_r2)\n",
    "print(\"Test r2:\", model3_test_r2)"
   ]
  },
  {
   "cell_type": "markdown",
   "metadata": {},
   "source": [
    "## Model 4 (All of the Above)"
   ]
  },
  {
   "cell_type": "code",
   "execution_count": 16,
   "metadata": {},
   "outputs": [],
   "source": [
    "useful_standard_train_X = standard_train_X.drop(columns=[\"symboling\", \"carheight\", \"compressionratio\", \"peakrpm\", \"stroke\"])\n",
    "useful_standard_test_X = standard_test_X.drop(columns=[\"symboling\", \"carheight\", \"compressionratio\", \"peakrpm\", \"stroke\"])"
   ]
  },
  {
   "cell_type": "code",
   "execution_count": 17,
   "metadata": {},
   "outputs": [
    {
     "name": "stdout",
     "output_type": "stream",
     "text": [
      "Train MSE: 0.12378120464023887\n",
      "Test MSE: 0.16162039302411613\n",
      "Train r2: 94.3752971569843\n",
      "Test r2: 84.8871987235759\n"
     ]
    }
   ],
   "source": [
    "model4 = LinearRegression()\n",
    "model4.fit(useful_standard_train_X, np.log(standard_train_Y))\n",
    "\n",
    "model4_pred_train = model4.predict(useful_standard_train_X)\n",
    "model4_pred_test = model4.predict(useful_standard_test_X)\n",
    "\n",
    "model4_train_mse = mean_squared_error(np.log(standard_train_Y), model4_pred_train, squared=False)\n",
    "model4_test_mse = mean_squared_error(np.log(standard_test_Y), model4_pred_test, squared=False)\n",
    "\n",
    "model4_train_r2 = r2_score(np.log(standard_train_Y), model4_pred_train) * 100\n",
    "model4_test_r2 = r2_score(np.log(standard_test_Y), model4_pred_test) * 100\n",
    "\n",
    "print(\"Train MSE:\", model4_train_mse)\n",
    "print(\"Test MSE:\", model4_test_mse)\n",
    "\n",
    "print(\"Train r2:\", model4_train_r2)\n",
    "print(\"Test r2:\", model4_test_r2)"
   ]
  },
  {
   "cell_type": "markdown",
   "metadata": {},
   "source": [
    "## Model 5 (Naive MinMax Scale)"
   ]
  },
  {
   "cell_type": "code",
   "execution_count": 18,
   "metadata": {},
   "outputs": [
    {
     "name": "stdout",
     "output_type": "stream",
     "text": [
      "Train MSE: 2136.3258980691007\n",
      "Test MSE: 2546.783239802525\n",
      "Train r2: 93.54323315596976\n",
      "Test r2: 80.86289882026134\n"
     ]
    }
   ],
   "source": [
    "model5 = LinearRegression()\n",
    "model5.fit(minmax_train_X, minmax_train_Y)\n",
    "\n",
    "model5_pred_train = model5.predict(minmax_train_X)\n",
    "model5_pred_test = model5.predict(minmax_test_X)\n",
    "\n",
    "model5_train_mse = mean_squared_error(minmax_train_Y, model5_pred_train, squared=False)\n",
    "model5_test_mse = mean_squared_error(minmax_test_Y, model5_pred_test, squared=False)\n",
    "\n",
    "model5_train_r2 = r2_score(minmax_train_Y, model5_pred_train) * 100\n",
    "model5_test_r2 = r2_score(minmax_test_Y, model5_pred_test) * 100\n",
    "\n",
    "print(\"Train MSE:\", model2_train_mse)\n",
    "print(\"Test MSE:\", model2_test_mse)\n",
    "\n",
    "print(\"Train r2:\", model2_train_r2)\n",
    "print(\"Test r2:\", model2_test_r2)"
   ]
  },
  {
   "cell_type": "markdown",
   "metadata": {},
   "source": [
    "## Model 6 (Remove Unnecessary Feature MinMax Scale)"
   ]
  },
  {
   "cell_type": "code",
   "execution_count": 19,
   "metadata": {},
   "outputs": [],
   "source": [
    "useful_minmax_train_X = minmax_train_X.drop(columns=[\"symboling\", \"carheight\", \"compressionratio\", \"peakrpm\", \"stroke\"])\n",
    "useful_minmax_test_X = minmax_test_X.drop(columns=[\"symboling\", \"carheight\", \"compressionratio\", \"peakrpm\", \"stroke\"])"
   ]
  },
  {
   "cell_type": "code",
   "execution_count": 20,
   "metadata": {},
   "outputs": [
    {
     "name": "stdout",
     "output_type": "stream",
     "text": [
      "Train MSE: 2239.8948991132447\n",
      "Test MSE: 2290.5722456766894\n",
      "Train r2: 93.15803115225931\n",
      "Test r2: 71.19479861626297\n"
     ]
    }
   ],
   "source": [
    "model6 = LinearRegression()\n",
    "model6.fit(useful_minmax_train_X, minmax_train_Y)\n",
    "\n",
    "model6_pred_train = model6.predict(useful_minmax_train_X)\n",
    "model6_pred_test = model6.predict(useful_minmax_test_X)\n",
    "\n",
    "model6_train_mse = mean_squared_error(minmax_train_Y, model6_pred_train, squared=False)\n",
    "model6_test_mse = mean_squared_error(minmax_test_Y, model6_pred_test, squared=False)\n",
    "\n",
    "model6_train_r2 = r2_score(minmax_train_Y, model6_pred_train) * 100\n",
    "model6_test_r2 = r2_score(minmax_test_Y, model6_pred_test) * 100\n",
    "\n",
    "print(\"Train MSE:\", model6_train_mse)\n",
    "print(\"Test MSE:\", model6_test_mse)\n",
    "\n",
    "print(\"Train r2:\", model6_train_r2)\n",
    "print(\"Test r2:\", model6_test_r2)"
   ]
  },
  {
   "cell_type": "markdown",
   "metadata": {},
   "source": [
    "## Model 7 (Log Transform Y MinMax Scale)"
   ]
  },
  {
   "cell_type": "code",
   "execution_count": 21,
   "metadata": {},
   "outputs": [
    {
     "name": "stdout",
     "output_type": "stream",
     "text": [
      "Train MSE: 0.1180982288697202\n",
      "Test MSE: 0.1847194508172558\n",
      "Train r2: 94.94517026421826\n",
      "Test r2: 76.15579413860765\n"
     ]
    }
   ],
   "source": [
    "model7 = LinearRegression()\n",
    "model7.fit(minmax_train_X, np.log(minmax_train_Y))\n",
    "\n",
    "model7_pred_train = model7.predict(minmax_train_X)\n",
    "model7_pred_test = model7.predict(minmax_test_X)\n",
    "\n",
    "model7_train_mse = mean_squared_error(np.log(minmax_train_Y), model7_pred_train, squared=False)\n",
    "model7_test_mse = mean_squared_error(np.log(minmax_test_Y), model7_pred_test, squared=False)\n",
    "\n",
    "model7_train_r2 = r2_score(np.log(minmax_train_Y), model7_pred_train) * 100\n",
    "model7_test_r2 = r2_score(np.log(minmax_test_Y), model7_pred_test) * 100\n",
    "\n",
    "print(\"Train MSE:\", model7_train_mse)\n",
    "print(\"Test MSE:\", model7_test_mse)\n",
    "\n",
    "print(\"Train r2:\", model7_train_r2)\n",
    "print(\"Test r2:\", model7_test_r2)"
   ]
  },
  {
   "cell_type": "markdown",
   "metadata": {},
   "source": [
    "## Model 8 (All of the Above MinMax Scale)"
   ]
  },
  {
   "cell_type": "code",
   "execution_count": 22,
   "metadata": {},
   "outputs": [],
   "source": [
    "useful_minmax_train_X = minmax_train_X.drop(columns=[\"symboling\", \"carheight\", \"compressionratio\", \"peakrpm\", \"stroke\"])\n",
    "useful_minmax_test_X = minmax_test_X.drop(columns=[\"symboling\", \"carheight\", \"compressionratio\", \"peakrpm\", \"stroke\"])"
   ]
  },
  {
   "cell_type": "code",
   "execution_count": 23,
   "metadata": {},
   "outputs": [
    {
     "name": "stdout",
     "output_type": "stream",
     "text": [
      "Train MSE: 0.12567185837821457\n",
      "Test MSE: 0.160481619045646\n",
      "Train r2: 94.27604992455485\n",
      "Test r2: 82.00266504484797\n"
     ]
    }
   ],
   "source": [
    "model8 = LinearRegression()\n",
    "model8.fit(useful_minmax_train_X, np.log(minmax_train_Y))\n",
    "\n",
    "model8_pred_train = model8.predict(useful_minmax_train_X)\n",
    "model8_pred_test = model8.predict(useful_minmax_test_X)\n",
    "\n",
    "model8_train_mse = mean_squared_error(np.log(minmax_train_Y), model8_pred_train, squared=False)\n",
    "model8_test_mse = mean_squared_error(np.log(minmax_test_Y), model8_pred_test, squared=False)\n",
    "\n",
    "model8_train_r2 = r2_score(np.log(minmax_train_Y), model8_pred_train) * 100\n",
    "model8_test_r2 = r2_score(np.log(minmax_test_Y), model8_pred_test) * 100\n",
    "\n",
    "print(\"Train MSE:\", model8_train_mse)\n",
    "print(\"Test MSE:\", model8_test_mse)\n",
    "\n",
    "print(\"Train r2:\", model8_train_r2)\n",
    "print(\"Test r2:\", model8_test_r2)"
   ]
  },
  {
   "cell_type": "code",
   "execution_count": 24,
   "metadata": {},
   "outputs": [
    {
     "name": "stdout",
     "output_type": "stream",
     "text": [
      "[ 6.27908467e-02 -6.76541366e-02  3.89369063e-01  7.22124686e-01\n",
      "  7.70529589e-02  1.32327616e-01  6.12165850e-01 -8.69357413e-01\n",
      "  6.44839257e-01 -7.59907220e-02  7.61881094e-02 -1.97387408e-04\n",
      "  3.32936017e-02 -3.46511298e-02 -5.68250201e-02 -1.37902169e-01\n",
      "  1.96084717e-01 -5.03327353e-02  5.03327353e-02 -2.57344367e-02\n",
      "  2.57344367e-02 -1.43958710e-02  1.43958710e-02 -2.26552618e-01\n",
      "  2.26552618e-01  2.48040716e-01  1.61001516e-01 -5.08246997e-02\n",
      "  8.83850656e-02  4.23530415e-02  5.43514887e-02 -5.43307127e-01\n",
      "  5.43514887e-02 -2.77555756e-17 -2.53469330e-01 -1.02820268e-01\n",
      " -3.12401755e-02  3.48668948e-01 -1.54906625e-02  7.02035941e-02\n",
      " -4.12924794e-02  5.03327353e-02  5.21421428e-02 -6.59130201e-02\n",
      " -4.03008367e-02  0.00000000e+00 -2.51721361e-02]\n",
      "[7, 3, 8, 6, 31, 2, 37, 34, 25, 24, 23, 16, 26, 15, 5, 35, 28, 4, 10, 9, 39, 1, 43, 0, 14, 30, 32, 42, 27, 18, 41, 17, 29, 40, 44, 13, 12, 36, 20, 19, 46, 38, 21, 22, 11, 33, 0]\n"
     ]
    }
   ],
   "source": [
    "# Get regression coefficients\n",
    "coeffs8 = model8.coef_\n",
    "print(coeffs8)\n",
    "\n",
    "# Identify features with largest magnitude of coefficient\n",
    "# Larger magnitudes indicate coefficients with more significance to determining price\n",
    "coeffs8_mag = abs(coeffs8)\n",
    "coeffs8_mag_temp = coeffs8_mag\n",
    "max_coeffs8_mag_ind = []\n",
    "num_imp_coeffs = 47\n",
    "for i in range(num_imp_coeffs):\n",
    "    maxcoeff8 = np.argmax(coeffs8_mag_temp)\n",
    "    max_coeffs8_mag_ind.append(maxcoeff8)\n",
    "    coeffs8_mag_temp[maxcoeff8] = 0\n",
    "\n",
    "print(max_coeffs8_mag_ind)"
   ]
  },
  {
   "cell_type": "code",
   "execution_count": 25,
   "metadata": {},
   "outputs": [],
   "source": [
    "#useful_minmax_train_X.iloc[:,max_coeffs8_mag_ind]"
   ]
  },
  {
   "cell_type": "code",
   "execution_count": 26,
   "metadata": {},
   "outputs": [],
   "source": [
    "#minmax_train_Y.head()"
   ]
  },
  {
   "cell_type": "markdown",
   "metadata": {},
   "source": [
    "### Scatterplot of Price vs. Largest-Weighted Feature"
   ]
  },
  {
   "cell_type": "code",
   "execution_count": 27,
   "metadata": {},
   "outputs": [],
   "source": [
    "#fig,ax = plt.plot()\n",
    "#useful_minmax_train_X_0 = useful_minmax_train_X[max_coeffs8_mag_ind[0]]\n",
    "#useful_minmax_train_X_0.plot.scatter()\n",
    "\n",
    "#print(max_coeffs8_mag_ind[0])\n",
    "#print(useful_minmax_train_X[:,max_coeffs8_mag_ind[0]])\n",
    "#print(useful_minmax_train_X.iloc[:,max_coeffs8_mag_ind[0]])\n",
    "#print(model8.predict(useful_minmax_train_X.iloc[:,max_coeffs8_mag_ind[0]]))"
   ]
  },
  {
   "cell_type": "code",
   "execution_count": 28,
   "metadata": {},
   "outputs": [
    {
     "data": {
      "image/png": "[encoded data removed]",
      "text/plain": [
       "<Figure size 432x288 with 1 Axes>"
      ]
     },
     "metadata": {
      "needs_background": "light"
     },
     "output_type": "display_data"
    }
   ],
   "source": [
    "plt.scatter(useful_minmax_train_X.iloc[:,max_coeffs8_mag_ind[0]], np.log(minmax_train_Y), color = \"red\");\n",
    "plt.plot(useful_minmax_train_X.iloc[:,max_coeffs8_mag_ind[0]], model8.predict(useful_minmax_train_X), color = \"green\");\n",
    "# Next step: instead try making a line plot using y=mx+b and the individual coefficients"
   ]
  },
  {
   "cell_type": "code",
   "execution_count": 29,
   "metadata": {},
   "outputs": [
    {
     "data": {
      "image/png": "[encoded data removed]",
      "text/plain": [
       "<Figure size 432x288 with 1 Axes>"
      ]
     },
     "metadata": {
      "needs_background": "light"
     },
     "output_type": "display_data"
    }
   ],
   "source": [
    "feat_ind = 0;\n",
    "y1 = plt.scatter(useful_minmax_train_X.iloc[:,max_coeffs8_mag_ind[feat_ind]], np.log(minmax_train_Y), color = \"red\", label=\"Actual Price\")\n",
    "# Line plot using individual coefficient\n",
    "y2 = plt.plot(np.linspace(0,1,5), coeffs8[max_coeffs8_mag_ind[feat_ind]]*np.linspace(0,1,5) + model8.intercept_, color = \"green\", label=\"Lin. Regression\")\n",
    "plt.xlabel(useful_minmax_train_X.columns[max_coeffs8_mag_ind[feat_ind]]);\n",
    "plt.ylabel('log(Price)');\n",
    "plt.grid()\n",
    "plt.legend();"
   ]
  },
  {
   "cell_type": "markdown",
   "metadata": {},
   "source": [
    "### Scatterplot of Price vs. 2nd-Largest-Weighted Feature"
   ]
  },
  {
   "cell_type": "code",
   "execution_count": 30,
   "metadata": {},
   "outputs": [
    {
     "data": {
      "image/png": "[encoded data removed]",
      "text/plain": [
       "<Figure size 432x288 with 1 Axes>"
      ]
     },
     "metadata": {
      "needs_background": "light"
     },
     "output_type": "display_data"
    }
   ],
   "source": [
    "feat_ind = 1;\n",
    "y1 = plt.scatter(useful_minmax_train_X.iloc[:,max_coeffs8_mag_ind[feat_ind]], np.log(minmax_train_Y), color = \"red\", label=\"Actual Price\")\n",
    "# Line plot using individual coefficient\n",
    "y2 = plt.plot(np.linspace(0,1,5), coeffs8[max_coeffs8_mag_ind[feat_ind]]*np.linspace(0,1,5) + model8.intercept_, color = \"green\", label=\"Lin. Regression\")\n",
    "plt.xlabel(useful_minmax_train_X.columns[max_coeffs8_mag_ind[feat_ind]]);\n",
    "plt.ylabel('log(Price)');\n",
    "plt.grid()\n",
    "plt.legend();"
   ]
  },
  {
   "cell_type": "markdown",
   "metadata": {},
   "source": [
    "### Scatterplot of Price vs. 3rd-Largest-Weighted Feature"
   ]
  },
  {
   "cell_type": "code",
   "execution_count": 31,
   "metadata": {},
   "outputs": [
    {
     "data": {
      "image/png": "[encoded data removed]",
      "text/plain": [
       "<Figure size 432x288 with 1 Axes>"
      ]
     },
     "metadata": {
      "needs_background": "light"
     },
     "output_type": "display_data"
    }
   ],
   "source": [
    "feat_ind = 2;\n",
    "y1 = plt.scatter(useful_minmax_train_X.iloc[:,max_coeffs8_mag_ind[feat_ind]], np.log(minmax_train_Y), color = \"red\", label=\"Actual Price\")\n",
    "# Line plot using individual coefficient\n",
    "y2 = plt.plot(np.linspace(0,1,5), coeffs8[max_coeffs8_mag_ind[feat_ind]]*np.linspace(0,1,5) + model8.intercept_, color = \"green\", label=\"Lin. Regression\")\n",
    "plt.xlabel(useful_minmax_train_X.columns[max_coeffs8_mag_ind[feat_ind]]);\n",
    "plt.ylabel('log(Price)');\n",
    "plt.grid()\n",
    "plt.legend();"
   ]
  },
  {
   "cell_type": "markdown",
   "metadata": {},
   "source": [
    "### Scatterplot of Price vs. 4th-Largest-Weighted Feature"
   ]
  },
  {
   "cell_type": "code",
   "execution_count": 32,
   "metadata": {},
   "outputs": [
    {
     "data": {
      "image/png": "[encoded data removed]",
      "text/plain": [
       "<Figure size 432x288 with 1 Axes>"
      ]
     },
     "metadata": {
      "needs_background": "light"
     },
     "output_type": "display_data"
    }
   ],
   "source": [
    "feat_ind = 3;\n",
    "y1 = plt.scatter(useful_minmax_train_X.iloc[:,max_coeffs8_mag_ind[feat_ind]], np.log(minmax_train_Y), color = \"red\", label=\"Actual Price\")\n",
    "# Line plot using individual coefficient\n",
    "y2 = plt.plot(np.linspace(0,1,5), coeffs8[max_coeffs8_mag_ind[feat_ind]]*np.linspace(0,1,5) + model8.intercept_, color = \"green\", label=\"Lin. Regression\")\n",
    "plt.xlabel(useful_minmax_train_X.columns[max_coeffs8_mag_ind[feat_ind]]);\n",
    "plt.ylabel('log(Price)');\n",
    "plt.grid()\n",
    "plt.legend();"
   ]
  },
  {
   "cell_type": "markdown",
   "metadata": {},
   "source": [
    "### Scatterplot of Price vs. 5th-Largest-Weighted Feature"
   ]
  },
  {
   "cell_type": "code",
   "execution_count": 33,
   "metadata": {},
   "outputs": [
    {
     "data": {
      "image/png": "[encoded data removed]",
      "text/plain": [
       "<Figure size 432x288 with 1 Axes>"
      ]
     },
     "metadata": {
      "needs_background": "light"
     },
     "output_type": "display_data"
    }
   ],
   "source": [
    "feat_ind = 4;\n",
    "y1 = plt.scatter(useful_minmax_train_X.iloc[:,max_coeffs8_mag_ind[feat_ind]], np.log(minmax_train_Y), color = \"red\", label=\"Actual Price\")\n",
    "# Line plot using individual coefficient\n",
    "y2 = plt.plot(np.linspace(0,1,5), coeffs8[max_coeffs8_mag_ind[feat_ind]]*np.linspace(0,1,5) + model8.intercept_, color = \"green\", label=\"Lin. Regression\")\n",
    "plt.xlabel(useful_minmax_train_X.columns[max_coeffs8_mag_ind[feat_ind]]);\n",
    "plt.ylabel('log(Price)');\n",
    "plt.grid()\n",
    "plt.legend();"
   ]
  },
  {
   "cell_type": "markdown",
   "metadata": {},
   "source": [
    "### Scatterplot of Price vs. 6th-Largest-Weighted Feature"
   ]
  },
  {
   "cell_type": "code",
   "execution_count": 34,
   "metadata": {},
   "outputs": [
    {
     "data": {
      "image/png": "[encoded data removed]",
      "text/plain": [
       "<Figure size 432x288 with 1 Axes>"
      ]
     },
     "metadata": {
      "needs_background": "light"
     },
     "output_type": "display_data"
    }
   ],
   "source": [
    "feat_ind = 5;\n",
    "y1 = plt.scatter(useful_minmax_train_X.iloc[:,max_coeffs8_mag_ind[feat_ind]], np.log(minmax_train_Y), color = \"red\", label=\"Actual Price\")\n",
    "# Line plot using individual coefficient\n",
    "y2 = plt.plot(np.linspace(0,1,5), coeffs8[max_coeffs8_mag_ind[feat_ind]]*np.linspace(0,1,5) + model8.intercept_, color = \"green\", label=\"Lin. Regression\")\n",
    "plt.xlabel(useful_minmax_train_X.columns[max_coeffs8_mag_ind[feat_ind]]);\n",
    "plt.ylabel('log(Price)');\n",
    "plt.grid()\n",
    "plt.legend();"
   ]
  },
  {
   "cell_type": "markdown",
   "metadata": {},
   "source": [
    "### Partial Regression Method to Create 2D Plots"
   ]
  },
  {
   "cell_type": "code",
   "execution_count": 54,
   "metadata": {},
   "outputs": [
    {
     "name": "stdout",
     "output_type": "stream",
     "text": [
      "None\n"
     ]
    }
   ],
   "source": [
    "print(list(minmax_data.columns).remove('citympg'))"
   ]
  },
  {
   "cell_type": "code",
   "execution_count": 63,
   "metadata": {},
   "outputs": [
    {
     "data": {
      "image/png": "[encoded data removed]",
      "text/plain": [
       "<Figure size 432x288 with 1 Axes>"
      ]
     },
     "metadata": {
      "needs_background": "light"
     },
     "output_type": "display_data"
    }
   ],
   "source": [
    "feat_to_examine = 'citympg';\n",
    "data_col_names = list(minmax_data.columns);\n",
    "data_col_names.remove(feat_to_examine)\n",
    "sm.graphics.plot_partregress('price', feat_to_examine, data_col_names, data=minmax_data)\n",
    "plt.title('Partial Regression of Price vs. ' + feat_to_examine);"
   ]
  },
  {
   "cell_type": "code",
   "execution_count": 37,
   "metadata": {},
   "outputs": [
    {
     "ename": "AttributeError",
     "evalue": "'LinearRegression' object has no attribute 'model'",
     "output_type": "error",
     "traceback": [
      "\u001b[1;31m---------------------------------------------------------------------------\u001b[0m",
      "\u001b[1;31mAttributeError\u001b[0m                            Traceback (most recent call last)",
      "\u001b[1;32m<ipython-input-37-bf070e055662>\u001b[0m in \u001b[0;36m<module>\u001b[1;34m\u001b[0m\n\u001b[0;32m      1\u001b[0m \u001b[0mfeat_ind\u001b[0m \u001b[1;33m=\u001b[0m \u001b[1;36m0\u001b[0m\u001b[1;33m;\u001b[0m\u001b[1;33m\u001b[0m\u001b[1;33m\u001b[0m\u001b[0m\n\u001b[1;32m----> 2\u001b[1;33m \u001b[0msm\u001b[0m\u001b[1;33m.\u001b[0m\u001b[0mgraphics\u001b[0m\u001b[1;33m.\u001b[0m\u001b[0mplot_partregress_grid\u001b[0m\u001b[1;33m(\u001b[0m\u001b[0mresults\u001b[0m\u001b[1;33m=\u001b[0m\u001b[0mmodel8\u001b[0m\u001b[1;33m,\u001b[0m \u001b[0mexog_idx\u001b[0m\u001b[1;33m=\u001b[0m\u001b[0mmax_coeffs8_mag_ind\u001b[0m\u001b[1;33m[\u001b[0m\u001b[0mfeat_ind\u001b[0m\u001b[1;33m]\u001b[0m\u001b[1;33m)\u001b[0m\u001b[1;33m\u001b[0m\u001b[1;33m\u001b[0m\u001b[0m\n\u001b[0m",
      "\u001b[1;32m~\\anaconda3\\lib\\site-packages\\statsmodels\\graphics\\regressionplots.py\u001b[0m in \u001b[0;36mplot_partregress_grid\u001b[1;34m(results, exog_idx, grid, fig)\u001b[0m\n\u001b[0;32m    528\u001b[0m     \u001b[0mfig\u001b[0m \u001b[1;33m=\u001b[0m \u001b[0mutils\u001b[0m\u001b[1;33m.\u001b[0m\u001b[0mcreate_mpl_fig\u001b[0m\u001b[1;33m(\u001b[0m\u001b[0mfig\u001b[0m\u001b[1;33m)\u001b[0m\u001b[1;33m\u001b[0m\u001b[1;33m\u001b[0m\u001b[0m\n\u001b[0;32m    529\u001b[0m \u001b[1;33m\u001b[0m\u001b[0m\n\u001b[1;32m--> 530\u001b[1;33m     \u001b[0mexog_name\u001b[0m\u001b[1;33m,\u001b[0m \u001b[0mexog_idx\u001b[0m \u001b[1;33m=\u001b[0m \u001b[0mutils\u001b[0m\u001b[1;33m.\u001b[0m\u001b[0mmaybe_name_or_idx\u001b[0m\u001b[1;33m(\u001b[0m\u001b[0mexog_idx\u001b[0m\u001b[1;33m,\u001b[0m \u001b[0mresults\u001b[0m\u001b[1;33m.\u001b[0m\u001b[0mmodel\u001b[0m\u001b[1;33m)\u001b[0m\u001b[1;33m\u001b[0m\u001b[1;33m\u001b[0m\u001b[0m\n\u001b[0m\u001b[0;32m    531\u001b[0m \u001b[1;33m\u001b[0m\u001b[0m\n\u001b[0;32m    532\u001b[0m     \u001b[1;31m# TODO: maybe add option for using wendog, wexog instead\u001b[0m\u001b[1;33m\u001b[0m\u001b[1;33m\u001b[0m\u001b[1;33m\u001b[0m\u001b[0m\n",
      "\u001b[1;31mAttributeError\u001b[0m: 'LinearRegression' object has no attribute 'model'"
     ]
    },
    {
     "data": {
      "text/plain": [
       "<Figure size 432x288 with 0 Axes>"
      ]
     },
     "metadata": {},
     "output_type": "display_data"
    }
   ],
   "source": [
    "feat_ind = 0;\n",
    "sm.graphics.plot_partregress_grid(results=model8, exog_idx=max_coeffs8_mag_ind[feat_ind])"
   ]
  },
  {
   "cell_type": "code",
   "execution_count": null,
   "metadata": {},
   "outputs": [],
   "source": []
  }
 ],
 "metadata": {
  "kernelspec": {
   "display_name": "Python 3",
   "language": "python",
   "name": "python3"
  },
  "language_info": {
   "codemirror_mode": {
    "name": "ipython",
    "version": 3
   },
   "file_extension": ".py",
   "mimetype": "text/x-python",
   "name": "python",
   "nbconvert_exporter": "python",
   "pygments_lexer": "ipython3",
   "version": "3.8.5"
  }
 },
 "nbformat": 4,
 "nbformat_minor": 5
}
